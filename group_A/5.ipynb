{
 "cells": [
  {
   "cell_type": "code",
   "execution_count": 1,
   "id": "4cbf417b",
   "metadata": {
    "execution": {
     "iopub.execute_input": "2021-10-03T10:05:31.881618Z",
     "iopub.status.busy": "2021-10-03T10:05:31.880974Z",
     "iopub.status.idle": "2021-10-03T10:05:31.885164Z",
     "shell.execute_reply": "2021-10-03T10:05:31.884626Z",
     "shell.execute_reply.started": "2021-10-03T10:00:52.860003Z"
    },
    "id": "4cbf417b",
    "papermill": {
     "duration": 0.034779,
     "end_time": "2021-10-03T10:05:31.885309",
     "exception": false,
     "start_time": "2021-10-03T10:05:31.850530",
     "status": "completed"
    },
    "tags": []
   },
   "outputs": [],
   "source": [
    "import pandas as pd\n",
    "import numpy as np\n",
    "import matplotlib.pyplot as plt\n",
    "%matplotlib inline"
   ]
  },
  {
   "cell_type": "code",
   "execution_count": 2,
   "id": "77ae9a6c",
   "metadata": {
    "colab": {
     "base_uri": "https://localhost:8080/",
     "height": 112
    },
    "execution": {
     "iopub.execute_input": "2021-10-03T10:05:31.941703Z",
     "iopub.status.busy": "2021-10-03T10:05:31.941158Z",
     "iopub.status.idle": "2021-10-03T10:05:31.966370Z",
     "shell.execute_reply": "2021-10-03T10:05:31.965931Z",
     "shell.execute_reply.started": "2021-10-03T10:00:53.681172Z"
    },
    "executionInfo": {
     "elapsed": 13,
     "status": "ok",
     "timestamp": 1650021735524,
     "user": {
      "displayName": "Anuranjan Pandey",
      "userId": "05889048362703875405"
     },
     "user_tz": -330
    },
    "id": "77ae9a6c",
    "outputId": "e1c76d86-d9ae-41da-82b5-904a43f1f0e0",
    "papermill": {
     "duration": 0.055211,
     "end_time": "2021-10-03T10:05:31.966478",
     "exception": false,
     "start_time": "2021-10-03T10:05:31.911267",
     "status": "completed"
    },
    "tags": []
   },
   "outputs": [
    {
     "data": {
      "text/html": [
       "<div>\n",
       "<style scoped>\n",
       "    .dataframe tbody tr th:only-of-type {\n",
       "        vertical-align: middle;\n",
       "    }\n",
       "\n",
       "    .dataframe tbody tr th {\n",
       "        vertical-align: top;\n",
       "    }\n",
       "\n",
       "    .dataframe thead th {\n",
       "        text-align: right;\n",
       "    }\n",
       "</style>\n",
       "<table border=\"1\" class=\"dataframe\">\n",
       "  <thead>\n",
       "    <tr style=\"text-align: right;\">\n",
       "      <th></th>\n",
       "      <th>User ID</th>\n",
       "      <th>Gender</th>\n",
       "      <th>Age</th>\n",
       "      <th>EstimatedSalary</th>\n",
       "      <th>Purchased</th>\n",
       "    </tr>\n",
       "  </thead>\n",
       "  <tbody>\n",
       "    <tr>\n",
       "      <th>0</th>\n",
       "      <td>15624510</td>\n",
       "      <td>Male</td>\n",
       "      <td>19</td>\n",
       "      <td>19000</td>\n",
       "      <td>0</td>\n",
       "    </tr>\n",
       "    <tr>\n",
       "      <th>1</th>\n",
       "      <td>15810944</td>\n",
       "      <td>Male</td>\n",
       "      <td>35</td>\n",
       "      <td>20000</td>\n",
       "      <td>0</td>\n",
       "    </tr>\n",
       "  </tbody>\n",
       "</table>\n",
       "</div>"
      ],
      "text/plain": [
       "    User ID Gender  Age  EstimatedSalary  Purchased\n",
       "0  15624510   Male   19            19000          0\n",
       "1  15810944   Male   35            20000          0"
      ]
     },
     "execution_count": 2,
     "metadata": {},
     "output_type": "execute_result"
    }
   ],
   "source": [
    "df = pd.read_csv('Social_Network_Ads.csv')\n",
    "df.head(2)"
   ]
  },
  {
   "cell_type": "code",
   "execution_count": 3,
   "id": "4491bf5d",
   "metadata": {
    "colab": {
     "base_uri": "https://localhost:8080/"
    },
    "execution": {
     "iopub.execute_input": "2021-10-03T10:05:32.013330Z",
     "iopub.status.busy": "2021-10-03T10:05:32.012820Z",
     "iopub.status.idle": "2021-10-03T10:05:32.016222Z",
     "shell.execute_reply": "2021-10-03T10:05:32.015817Z",
     "shell.execute_reply.started": "2021-10-03T10:00:54.37874Z"
    },
    "executionInfo": {
     "elapsed": 4,
     "status": "ok",
     "timestamp": 1650021736989,
     "user": {
      "displayName": "Anuranjan Pandey",
      "userId": "05889048362703875405"
     },
     "user_tz": -330
    },
    "id": "4491bf5d",
    "outputId": "902fce59-327c-40af-a3e8-0a8cca9d06ba",
    "papermill": {
     "duration": 0.032313,
     "end_time": "2021-10-03T10:05:32.016327",
     "exception": false,
     "start_time": "2021-10-03T10:05:31.984014",
     "status": "completed"
    },
    "tags": []
   },
   "outputs": [
    {
     "data": {
      "text/plain": [
       "0    257\n",
       "1    143\n",
       "Name: Purchased, dtype: int64"
      ]
     },
     "execution_count": 3,
     "metadata": {},
     "output_type": "execute_result"
    }
   ],
   "source": [
    "df['Purchased'].value_counts()"
   ]
  },
  {
   "cell_type": "code",
   "execution_count": 4,
   "id": "28bf5dc1",
   "metadata": {
    "execution": {
     "iopub.execute_input": "2021-10-03T10:05:32.062380Z",
     "iopub.status.busy": "2021-10-03T10:05:32.061685Z",
     "iopub.status.idle": "2021-10-03T10:05:32.065703Z",
     "shell.execute_reply": "2021-10-03T10:05:32.065108Z",
     "shell.execute_reply.started": "2021-10-03T10:00:54.960556Z"
    },
    "id": "28bf5dc1",
    "papermill": {
     "duration": 0.028888,
     "end_time": "2021-10-03T10:05:32.065848",
     "exception": false,
     "start_time": "2021-10-03T10:05:32.036960",
     "status": "completed"
    },
    "tags": []
   },
   "outputs": [],
   "source": [
    "df = df.drop('User ID', axis = 1)"
   ]
  },
  {
   "cell_type": "code",
   "execution_count": 5,
   "id": "a7a5af41",
   "metadata": {
    "colab": {
     "base_uri": "https://localhost:8080/",
     "height": 112
    },
    "execution": {
     "iopub.execute_input": "2021-10-03T10:05:32.127849Z",
     "iopub.status.busy": "2021-10-03T10:05:32.127091Z",
     "iopub.status.idle": "2021-10-03T10:05:32.132285Z",
     "shell.execute_reply": "2021-10-03T10:05:32.131625Z",
     "shell.execute_reply.started": "2021-10-03T10:00:55.642687Z"
    },
    "executionInfo": {
     "elapsed": 9,
     "status": "ok",
     "timestamp": 1650021739146,
     "user": {
      "displayName": "Anuranjan Pandey",
      "userId": "05889048362703875405"
     },
     "user_tz": -330
    },
    "id": "a7a5af41",
    "outputId": "59effa07-f1e2-43ad-c7c7-a49b13fbd863",
    "papermill": {
     "duration": 0.039553,
     "end_time": "2021-10-03T10:05:32.132425",
     "exception": false,
     "start_time": "2021-10-03T10:05:32.092872",
     "status": "completed"
    },
    "tags": []
   },
   "outputs": [
    {
     "data": {
      "text/html": [
       "<div>\n",
       "<style scoped>\n",
       "    .dataframe tbody tr th:only-of-type {\n",
       "        vertical-align: middle;\n",
       "    }\n",
       "\n",
       "    .dataframe tbody tr th {\n",
       "        vertical-align: top;\n",
       "    }\n",
       "\n",
       "    .dataframe thead th {\n",
       "        text-align: right;\n",
       "    }\n",
       "</style>\n",
       "<table border=\"1\" class=\"dataframe\">\n",
       "  <thead>\n",
       "    <tr style=\"text-align: right;\">\n",
       "      <th></th>\n",
       "      <th>Gender</th>\n",
       "      <th>Age</th>\n",
       "      <th>EstimatedSalary</th>\n",
       "      <th>Purchased</th>\n",
       "    </tr>\n",
       "  </thead>\n",
       "  <tbody>\n",
       "    <tr>\n",
       "      <th>0</th>\n",
       "      <td>Male</td>\n",
       "      <td>19</td>\n",
       "      <td>19000</td>\n",
       "      <td>0</td>\n",
       "    </tr>\n",
       "    <tr>\n",
       "      <th>1</th>\n",
       "      <td>Male</td>\n",
       "      <td>35</td>\n",
       "      <td>20000</td>\n",
       "      <td>0</td>\n",
       "    </tr>\n",
       "  </tbody>\n",
       "</table>\n",
       "</div>"
      ],
      "text/plain": [
       "  Gender  Age  EstimatedSalary  Purchased\n",
       "0   Male   19            19000          0\n",
       "1   Male   35            20000          0"
      ]
     },
     "execution_count": 5,
     "metadata": {},
     "output_type": "execute_result"
    }
   ],
   "source": [
    "df.head(2)"
   ]
  },
  {
   "cell_type": "code",
   "execution_count": 6,
   "id": "9b2a345d",
   "metadata": {
    "colab": {
     "base_uri": "https://localhost:8080/"
    },
    "execution": {
     "iopub.execute_input": "2021-10-03T10:05:32.201091Z",
     "iopub.status.busy": "2021-10-03T10:05:32.200526Z",
     "iopub.status.idle": "2021-10-03T10:05:32.203837Z",
     "shell.execute_reply": "2021-10-03T10:05:32.203383Z",
     "shell.execute_reply.started": "2021-10-03T10:00:56.184449Z"
    },
    "executionInfo": {
     "elapsed": 9,
     "status": "ok",
     "timestamp": 1650021739147,
     "user": {
      "displayName": "Anuranjan Pandey",
      "userId": "05889048362703875405"
     },
     "user_tz": -330
    },
    "id": "9b2a345d",
    "outputId": "d73b5598-bb04-454c-9314-88e33ab78dea",
    "papermill": {
     "duration": 0.043487,
     "end_time": "2021-10-03T10:05:32.203945",
     "exception": false,
     "start_time": "2021-10-03T10:05:32.160458",
     "status": "completed"
    },
    "tags": []
   },
   "outputs": [
    {
     "name": "stdout",
     "output_type": "stream",
     "text": [
      "<class 'pandas.core.frame.DataFrame'>\n",
      "RangeIndex: 400 entries, 0 to 399\n",
      "Data columns (total 4 columns):\n",
      " #   Column           Non-Null Count  Dtype \n",
      "---  ------           --------------  ----- \n",
      " 0   Gender           400 non-null    object\n",
      " 1   Age              400 non-null    int64 \n",
      " 2   EstimatedSalary  400 non-null    int64 \n",
      " 3   Purchased        400 non-null    int64 \n",
      "dtypes: int64(3), object(1)\n",
      "memory usage: 12.6+ KB\n"
     ]
    }
   ],
   "source": [
    "df.info()"
   ]
  },
  {
   "cell_type": "code",
   "execution_count": 7,
   "id": "f1bdcddd",
   "metadata": {
    "colab": {
     "base_uri": "https://localhost:8080/",
     "height": 363
    },
    "execution": {
     "iopub.execute_input": "2021-10-03T10:05:32.244959Z",
     "iopub.status.busy": "2021-10-03T10:05:32.244343Z",
     "iopub.status.idle": "2021-10-03T10:05:33.191592Z",
     "shell.execute_reply": "2021-10-03T10:05:33.190869Z",
     "shell.execute_reply.started": "2021-10-03T10:00:56.590693Z"
    },
    "executionInfo": {
     "elapsed": 1003,
     "status": "ok",
     "timestamp": 1650021740144,
     "user": {
      "displayName": "Anuranjan Pandey",
      "userId": "05889048362703875405"
     },
     "user_tz": -330
    },
    "id": "f1bdcddd",
    "outputId": "11cb2b8b-bf2b-4bf1-8591-580da696788e",
    "papermill": {
     "duration": 0.969755,
     "end_time": "2021-10-03T10:05:33.191764",
     "exception": false,
     "start_time": "2021-10-03T10:05:32.222009",
     "status": "completed"
    },
    "tags": []
   },
   "outputs": [
    {
     "data": {
      "text/html": [
       "<div>\n",
       "<style scoped>\n",
       "    .dataframe tbody tr th:only-of-type {\n",
       "        vertical-align: middle;\n",
       "    }\n",
       "\n",
       "    .dataframe tbody tr th {\n",
       "        vertical-align: top;\n",
       "    }\n",
       "\n",
       "    .dataframe thead th {\n",
       "        text-align: right;\n",
       "    }\n",
       "</style>\n",
       "<table border=\"1\" class=\"dataframe\">\n",
       "  <thead>\n",
       "    <tr style=\"text-align: right;\">\n",
       "      <th></th>\n",
       "      <th>Age</th>\n",
       "      <th>EstimatedSalary</th>\n",
       "      <th>Purchased</th>\n",
       "      <th>Gender_Female</th>\n",
       "      <th>Gender_Male</th>\n",
       "    </tr>\n",
       "  </thead>\n",
       "  <tbody>\n",
       "    <tr>\n",
       "      <th>0</th>\n",
       "      <td>19</td>\n",
       "      <td>19000</td>\n",
       "      <td>0</td>\n",
       "      <td>0</td>\n",
       "      <td>1</td>\n",
       "    </tr>\n",
       "    <tr>\n",
       "      <th>1</th>\n",
       "      <td>35</td>\n",
       "      <td>20000</td>\n",
       "      <td>0</td>\n",
       "      <td>0</td>\n",
       "      <td>1</td>\n",
       "    </tr>\n",
       "    <tr>\n",
       "      <th>2</th>\n",
       "      <td>26</td>\n",
       "      <td>43000</td>\n",
       "      <td>0</td>\n",
       "      <td>1</td>\n",
       "      <td>0</td>\n",
       "    </tr>\n",
       "    <tr>\n",
       "      <th>3</th>\n",
       "      <td>27</td>\n",
       "      <td>57000</td>\n",
       "      <td>0</td>\n",
       "      <td>1</td>\n",
       "      <td>0</td>\n",
       "    </tr>\n",
       "    <tr>\n",
       "      <th>4</th>\n",
       "      <td>19</td>\n",
       "      <td>76000</td>\n",
       "      <td>0</td>\n",
       "      <td>0</td>\n",
       "      <td>1</td>\n",
       "    </tr>\n",
       "    <tr>\n",
       "      <th>5</th>\n",
       "      <td>27</td>\n",
       "      <td>58000</td>\n",
       "      <td>0</td>\n",
       "      <td>0</td>\n",
       "      <td>1</td>\n",
       "    </tr>\n",
       "    <tr>\n",
       "      <th>6</th>\n",
       "      <td>27</td>\n",
       "      <td>84000</td>\n",
       "      <td>0</td>\n",
       "      <td>1</td>\n",
       "      <td>0</td>\n",
       "    </tr>\n",
       "    <tr>\n",
       "      <th>7</th>\n",
       "      <td>32</td>\n",
       "      <td>150000</td>\n",
       "      <td>1</td>\n",
       "      <td>1</td>\n",
       "      <td>0</td>\n",
       "    </tr>\n",
       "    <tr>\n",
       "      <th>8</th>\n",
       "      <td>25</td>\n",
       "      <td>33000</td>\n",
       "      <td>0</td>\n",
       "      <td>0</td>\n",
       "      <td>1</td>\n",
       "    </tr>\n",
       "    <tr>\n",
       "      <th>9</th>\n",
       "      <td>35</td>\n",
       "      <td>65000</td>\n",
       "      <td>0</td>\n",
       "      <td>1</td>\n",
       "      <td>0</td>\n",
       "    </tr>\n",
       "  </tbody>\n",
       "</table>\n",
       "</div>"
      ],
      "text/plain": [
       "   Age  EstimatedSalary  Purchased  Gender_Female  Gender_Male\n",
       "0   19            19000          0              0            1\n",
       "1   35            20000          0              0            1\n",
       "2   26            43000          0              1            0\n",
       "3   27            57000          0              1            0\n",
       "4   19            76000          0              0            1\n",
       "5   27            58000          0              0            1\n",
       "6   27            84000          0              1            0\n",
       "7   32           150000          1              1            0\n",
       "8   25            33000          0              0            1\n",
       "9   35            65000          0              1            0"
      ]
     },
     "execution_count": 7,
     "metadata": {},
     "output_type": "execute_result"
    }
   ],
   "source": [
    "from sklearn.preprocessing import OneHotEncoder\n",
    "df_onehot = pd.get_dummies(df, columns=['Gender'], prefix = ['Gender'])\n",
    "df_onehot.head(10)"
   ]
  },
  {
   "cell_type": "code",
   "execution_count": 8,
   "id": "95616f1a",
   "metadata": {
    "execution": {
     "iopub.execute_input": "2021-10-03T10:05:33.232863Z",
     "iopub.status.busy": "2021-10-03T10:05:33.232380Z",
     "iopub.status.idle": "2021-10-03T10:05:33.239588Z",
     "shell.execute_reply": "2021-10-03T10:05:33.239968Z",
     "shell.execute_reply.started": "2021-10-03T10:00:56.979989Z"
    },
    "id": "95616f1a",
    "papermill": {
     "duration": 0.029322,
     "end_time": "2021-10-03T10:05:33.240114",
     "exception": false,
     "start_time": "2021-10-03T10:05:33.210792",
     "status": "completed"
    },
    "tags": []
   },
   "outputs": [],
   "source": [
    "from sklearn.preprocessing import MinMaxScaler\n",
    "\n",
    "scaler=MinMaxScaler(feature_range=(0,1))\n",
    "df_onehot[\"EstimatedSalary\"]=scaler.fit_transform(df_onehot[[\"EstimatedSalary\"]])"
   ]
  },
  {
   "cell_type": "code",
   "execution_count": 9,
   "id": "8eca99f9",
   "metadata": {
    "colab": {
     "base_uri": "https://localhost:8080/",
     "height": 112
    },
    "execution": {
     "iopub.execute_input": "2021-10-03T10:05:33.282892Z",
     "iopub.status.busy": "2021-10-03T10:05:33.281952Z",
     "iopub.status.idle": "2021-10-03T10:05:33.292832Z",
     "shell.execute_reply": "2021-10-03T10:05:33.292301Z",
     "shell.execute_reply.started": "2021-10-03T10:00:57.649635Z"
    },
    "executionInfo": {
     "elapsed": 11,
     "status": "ok",
     "timestamp": 1650021740145,
     "user": {
      "displayName": "Anuranjan Pandey",
      "userId": "05889048362703875405"
     },
     "user_tz": -330
    },
    "id": "8eca99f9",
    "outputId": "2af08605-0357-4ce8-a6b8-c1a81d59ae1c",
    "papermill": {
     "duration": 0.03387,
     "end_time": "2021-10-03T10:05:33.292971",
     "exception": false,
     "start_time": "2021-10-03T10:05:33.259101",
     "status": "completed"
    },
    "tags": []
   },
   "outputs": [
    {
     "data": {
      "text/html": [
       "<div>\n",
       "<style scoped>\n",
       "    .dataframe tbody tr th:only-of-type {\n",
       "        vertical-align: middle;\n",
       "    }\n",
       "\n",
       "    .dataframe tbody tr th {\n",
       "        vertical-align: top;\n",
       "    }\n",
       "\n",
       "    .dataframe thead th {\n",
       "        text-align: right;\n",
       "    }\n",
       "</style>\n",
       "<table border=\"1\" class=\"dataframe\">\n",
       "  <thead>\n",
       "    <tr style=\"text-align: right;\">\n",
       "      <th></th>\n",
       "      <th>Age</th>\n",
       "      <th>EstimatedSalary</th>\n",
       "      <th>Gender_Female</th>\n",
       "      <th>Gender_Male</th>\n",
       "      <th>Purchased</th>\n",
       "    </tr>\n",
       "  </thead>\n",
       "  <tbody>\n",
       "    <tr>\n",
       "      <th>0</th>\n",
       "      <td>19</td>\n",
       "      <td>0.029630</td>\n",
       "      <td>0</td>\n",
       "      <td>1</td>\n",
       "      <td>0</td>\n",
       "    </tr>\n",
       "    <tr>\n",
       "      <th>1</th>\n",
       "      <td>35</td>\n",
       "      <td>0.037037</td>\n",
       "      <td>0</td>\n",
       "      <td>1</td>\n",
       "      <td>0</td>\n",
       "    </tr>\n",
       "  </tbody>\n",
       "</table>\n",
       "</div>"
      ],
      "text/plain": [
       "   Age  EstimatedSalary  Gender_Female  Gender_Male  Purchased\n",
       "0   19         0.029630              0            1          0\n",
       "1   35         0.037037              0            1          0"
      ]
     },
     "execution_count": 9,
     "metadata": {},
     "output_type": "execute_result"
    }
   ],
   "source": [
    "Column_loc = ['Age','EstimatedSalary','Gender_Female','Gender_Male','Purchased']\n",
    "df_onehot = df_onehot[Column_loc]\n",
    "df_onehot.head(2)"
   ]
  },
  {
   "cell_type": "code",
   "execution_count": 10,
   "id": "dfdd882b",
   "metadata": {
    "execution": {
     "iopub.execute_input": "2021-10-03T10:05:33.355086Z",
     "iopub.status.busy": "2021-10-03T10:05:33.354293Z",
     "iopub.status.idle": "2021-10-03T10:05:33.358634Z",
     "shell.execute_reply": "2021-10-03T10:05:33.358066Z",
     "shell.execute_reply.started": "2021-10-03T10:00:58.232452Z"
    },
    "id": "dfdd882b",
    "papermill": {
     "duration": 0.03743,
     "end_time": "2021-10-03T10:05:33.358786",
     "exception": false,
     "start_time": "2021-10-03T10:05:33.321356",
     "status": "completed"
    },
    "tags": []
   },
   "outputs": [],
   "source": [
    "X = df_onehot.iloc[:,:-1].values\n",
    "y = df_onehot.iloc[:,-1].values"
   ]
  },
  {
   "cell_type": "code",
   "execution_count": 11,
   "id": "a76e177f",
   "metadata": {
    "colab": {
     "base_uri": "https://localhost:8080/"
    },
    "execution": {
     "iopub.execute_input": "2021-10-03T10:05:33.421347Z",
     "iopub.status.busy": "2021-10-03T10:05:33.420694Z",
     "iopub.status.idle": "2021-10-03T10:05:33.493141Z",
     "shell.execute_reply": "2021-10-03T10:05:33.492653Z",
     "shell.execute_reply.started": "2021-10-03T10:00:59.046263Z"
    },
    "executionInfo": {
     "elapsed": 11,
     "status": "ok",
     "timestamp": 1650021740146,
     "user": {
      "displayName": "Anuranjan Pandey",
      "userId": "05889048362703875405"
     },
     "user_tz": -330
    },
    "id": "a76e177f",
    "outputId": "cbe62c95-60fa-4755-96f2-23c0ea4b6b43",
    "papermill": {
     "duration": 0.105408,
     "end_time": "2021-10-03T10:05:33.493406",
     "exception": false,
     "start_time": "2021-10-03T10:05:33.387998",
     "status": "completed"
    },
    "tags": []
   },
   "outputs": [
    {
     "name": "stdout",
     "output_type": "stream",
     "text": [
      "(300, 4) (300,) (100, 4) (100,)\n"
     ]
    }
   ],
   "source": [
    "# Splitting the dataset into the Training set and Test set\n",
    "\n",
    "from sklearn.model_selection import train_test_split\n",
    "train_X, test_X, train_y, test_y = train_test_split(X, y, test_size= 0.25, random_state = 4)\n",
    "print(train_X.shape,train_y.shape,test_X.shape,test_y.shape)"
   ]
  },
  {
   "cell_type": "code",
   "execution_count": 12,
   "id": "d5086b39",
   "metadata": {
    "colab": {
     "base_uri": "https://localhost:8080/"
    },
    "execution": {
     "iopub.execute_input": "2021-10-03T10:05:33.534016Z",
     "iopub.status.busy": "2021-10-03T10:05:33.533586Z",
     "iopub.status.idle": "2021-10-03T10:05:33.649613Z",
     "shell.execute_reply": "2021-10-03T10:05:33.649091Z",
     "shell.execute_reply.started": "2021-10-03T10:00:59.678843Z"
    },
    "executionInfo": {
     "elapsed": 10,
     "status": "ok",
     "timestamp": 1650021740147,
     "user": {
      "displayName": "Anuranjan Pandey",
      "userId": "05889048362703875405"
     },
     "user_tz": -330
    },
    "id": "d5086b39",
    "outputId": "73af0c4f-e161-4875-9cad-0cb66ab50d3d",
    "papermill": {
     "duration": 0.137302,
     "end_time": "2021-10-03T10:05:33.649723",
     "exception": false,
     "start_time": "2021-10-03T10:05:33.512421",
     "status": "completed"
    },
    "tags": []
   },
   "outputs": [
    {
     "data": {
      "text/plain": [
       "LogisticRegression()"
      ]
     },
     "execution_count": 12,
     "metadata": {},
     "output_type": "execute_result"
    }
   ],
   "source": [
    "from sklearn.linear_model import LogisticRegression\n",
    "lr = LogisticRegression()\n",
    "lr.fit(train_X,train_y)"
   ]
  },
  {
   "cell_type": "code",
   "execution_count": 13,
   "id": "769181a1",
   "metadata": {
    "execution": {
     "iopub.execute_input": "2021-10-03T10:05:33.694789Z",
     "iopub.status.busy": "2021-10-03T10:05:33.692604Z",
     "iopub.status.idle": "2021-10-03T10:05:33.695956Z",
     "shell.execute_reply": "2021-10-03T10:05:33.696452Z",
     "shell.execute_reply.started": "2021-10-03T10:01:00.529326Z"
    },
    "id": "769181a1",
    "papermill": {
     "duration": 0.027278,
     "end_time": "2021-10-03T10:05:33.696612",
     "exception": false,
     "start_time": "2021-10-03T10:05:33.669334",
     "status": "completed"
    },
    "tags": []
   },
   "outputs": [],
   "source": [
    "predict_y = lr.predict(test_X)\n"
   ]
  },
  {
   "cell_type": "code",
   "execution_count": 14,
   "id": "45fea00b",
   "metadata": {
    "colab": {
     "base_uri": "https://localhost:8080/"
    },
    "execution": {
     "iopub.execute_input": "2021-10-03T10:05:33.741438Z",
     "iopub.status.busy": "2021-10-03T10:05:33.740687Z",
     "iopub.status.idle": "2021-10-03T10:05:33.746755Z",
     "shell.execute_reply": "2021-10-03T10:05:33.746126Z",
     "shell.execute_reply.started": "2021-10-03T10:01:01.389133Z"
    },
    "executionInfo": {
     "elapsed": 9,
     "status": "ok",
     "timestamp": 1650021740534,
     "user": {
      "displayName": "Anuranjan Pandey",
      "userId": "05889048362703875405"
     },
     "user_tz": -330
    },
    "id": "45fea00b",
    "outputId": "edd16237-6606-4354-fb99-1f21bac85e24",
    "papermill": {
     "duration": 0.030515,
     "end_time": "2021-10-03T10:05:33.746899",
     "exception": false,
     "start_time": "2021-10-03T10:05:33.716384",
     "status": "completed"
    },
    "tags": []
   },
   "outputs": [
    {
     "data": {
      "text/plain": [
       "array([0, 0, 0, 0, 0, 1, 1, 1, 1, 0, 0, 0, 0, 0, 0, 0, 0, 0, 0, 0, 0, 0,\n",
       "       0, 1, 0, 1, 0, 0, 0, 0, 0, 0, 0, 0, 1, 0, 1, 0, 0, 0, 0, 0, 0, 0,\n",
       "       0, 0, 0, 0, 1, 1, 0, 0, 0, 1, 1, 0, 1, 0, 0, 1, 1, 1, 0, 0, 0, 0,\n",
       "       0, 0, 1, 1, 0, 1, 0, 1, 1, 0, 0, 0, 0, 1, 0, 0, 1, 0, 0, 0, 0, 0,\n",
       "       1, 0, 1, 0, 0, 0, 0, 0, 0, 0, 0, 1])"
      ]
     },
     "execution_count": 14,
     "metadata": {},
     "output_type": "execute_result"
    }
   ],
   "source": [
    "predict_y"
   ]
  },
  {
   "cell_type": "code",
   "execution_count": 15,
   "id": "08f3e4eb",
   "metadata": {
    "colab": {
     "base_uri": "https://localhost:8080/"
    },
    "execution": {
     "iopub.execute_input": "2021-10-03T10:05:33.813206Z",
     "iopub.status.busy": "2021-10-03T10:05:33.812642Z",
     "iopub.status.idle": "2021-10-03T10:05:33.816952Z",
     "shell.execute_reply": "2021-10-03T10:05:33.816319Z",
     "shell.execute_reply.started": "2021-10-03T10:01:02.057473Z"
    },
    "executionInfo": {
     "elapsed": 8,
     "status": "ok",
     "timestamp": 1650021740534,
     "user": {
      "displayName": "Anuranjan Pandey",
      "userId": "05889048362703875405"
     },
     "user_tz": -330
    },
    "id": "08f3e4eb",
    "outputId": "2be58e57-7940-42d2-bb2f-5714df82a000",
    "papermill": {
     "duration": 0.040103,
     "end_time": "2021-10-03T10:05:33.817086",
     "exception": false,
     "start_time": "2021-10-03T10:05:33.776983",
     "status": "completed"
    },
    "tags": []
   },
   "outputs": [
    {
     "data": {
      "text/plain": [
       "0.86"
      ]
     },
     "execution_count": 15,
     "metadata": {},
     "output_type": "execute_result"
    }
   ],
   "source": [
    "from sklearn.metrics import accuracy_score\n",
    "accuracy_score(test_y, predict_y)"
   ]
  },
  {
   "cell_type": "code",
   "execution_count": 16,
   "id": "8c0d582b",
   "metadata": {
    "colab": {
     "base_uri": "https://localhost:8080/"
    },
    "execution": {
     "iopub.execute_input": "2021-10-03T10:05:33.882554Z",
     "iopub.status.busy": "2021-10-03T10:05:33.881926Z",
     "iopub.status.idle": "2021-10-03T10:05:33.892020Z",
     "shell.execute_reply": "2021-10-03T10:05:33.891330Z",
     "shell.execute_reply.started": "2021-10-03T10:01:03.069661Z"
    },
    "executionInfo": {
     "elapsed": 7,
     "status": "ok",
     "timestamp": 1650021740535,
     "user": {
      "displayName": "Anuranjan Pandey",
      "userId": "05889048362703875405"
     },
     "user_tz": -330
    },
    "id": "8c0d582b",
    "outputId": "8042929a-cc6a-45c3-9af1-10326853a2e3",
    "papermill": {
     "duration": 0.045179,
     "end_time": "2021-10-03T10:05:33.892183",
     "exception": false,
     "start_time": "2021-10-03T10:05:33.847004",
     "status": "completed"
    },
    "tags": []
   },
   "outputs": [
    {
     "name": "stdout",
     "output_type": "stream",
     "text": [
      "0.8142857142857143\n",
      "0.8076923076923077\n",
      "0.7\n"
     ]
    }
   ],
   "source": [
    "from sklearn.metrics import confusion_matrix, roc_auc_score, precision_score, recall_score\n",
    "print(roc_auc_score(test_y, predict_y))\n",
    "print(precision_score(test_y, predict_y))\n",
    "print(recall_score(test_y, predict_y))"
   ]
  },
  {
   "cell_type": "code",
   "execution_count": 17,
   "id": "fe1fc078",
   "metadata": {
    "colab": {
     "base_uri": "https://localhost:8080/"
    },
    "execution": {
     "iopub.execute_input": "2021-10-03T10:05:33.963113Z",
     "iopub.status.busy": "2021-10-03T10:05:33.962355Z",
     "iopub.status.idle": "2021-10-03T10:05:33.965780Z",
     "shell.execute_reply": "2021-10-03T10:05:33.966295Z",
     "shell.execute_reply.started": "2021-10-03T10:01:03.915681Z"
    },
    "executionInfo": {
     "elapsed": 6,
     "status": "ok",
     "timestamp": 1650021740535,
     "user": {
      "displayName": "Anuranjan Pandey",
      "userId": "05889048362703875405"
     },
     "user_tz": -330
    },
    "id": "fe1fc078",
    "outputId": "28e7d647-b060-4a0a-c1f7-a26908425361",
    "papermill": {
     "duration": 0.043185,
     "end_time": "2021-10-03T10:05:33.966462",
     "exception": false,
     "start_time": "2021-10-03T10:05:33.923277",
     "status": "completed"
    },
    "tags": []
   },
   "outputs": [
    {
     "name": "stdout",
     "output_type": "stream",
     "text": [
      "[[65  5]\n",
      " [ 9 21]]\n",
      "Correctly Predicted made Purchase 65\n",
      "Falsely Predicted made Purchase 5\n",
      "Falsely Predicted made did NOT made Purchase 9\n",
      "Correctly Predicted made did NOT made Purchase 21\n"
     ]
    }
   ],
   "source": [
    "print(confusion_matrix(test_y, predict_y))\n",
    "tp,fp, fn, tn = confusion_matrix(test_y, predict_y).ravel()\n",
    "print(f'Correctly Predicted made Purchase {tp}')\n",
    "print(f'Falsely Predicted made Purchase {fp}')\n",
    "print(f'Falsely Predicted made did NOT made Purchase {fn}')\n",
    "print(f'Correctly Predicted made did NOT made Purchase {tn}')"
   ]
  },
  {
   "cell_type": "code",
   "execution_count": 18,
   "id": "010d9a80",
   "metadata": {
    "colab": {
     "base_uri": "https://localhost:8080/"
    },
    "execution": {
     "iopub.execute_input": "2021-10-03T10:05:34.034414Z",
     "iopub.status.busy": "2021-10-03T10:05:34.033758Z",
     "iopub.status.idle": "2021-10-03T10:05:34.039965Z",
     "shell.execute_reply": "2021-10-03T10:05:34.040471Z",
     "shell.execute_reply.started": "2021-10-03T10:01:04.672737Z"
    },
    "executionInfo": {
     "elapsed": 5,
     "status": "ok",
     "timestamp": 1650021740948,
     "user": {
      "displayName": "Anuranjan Pandey",
      "userId": "05889048362703875405"
     },
     "user_tz": -330
    },
    "id": "010d9a80",
    "outputId": "4ff15571-485d-470d-b01b-1fa07fe84733",
    "papermill": {
     "duration": 0.043163,
     "end_time": "2021-10-03T10:05:34.040670",
     "exception": false,
     "start_time": "2021-10-03T10:05:33.997507",
     "status": "completed"
    },
    "tags": []
   },
   "outputs": [
    {
     "name": "stdout",
     "output_type": "stream",
     "text": [
      "Area under ROC curve is 0.9357142857142857\n"
     ]
    }
   ],
   "source": [
    "print('Area under ROC curve is',roc_auc_score(test_y, lr.predict_proba(test_X)[:,1]))"
   ]
  },
  {
   "cell_type": "code",
   "execution_count": 19,
   "id": "7ec09026",
   "metadata": {
    "colab": {
     "base_uri": "https://localhost:8080/"
    },
    "execution": {
     "iopub.execute_input": "2021-10-03T10:05:34.108362Z",
     "iopub.status.busy": "2021-10-03T10:05:34.107711Z",
     "iopub.status.idle": "2021-10-03T10:05:34.112532Z",
     "shell.execute_reply": "2021-10-03T10:05:34.113059Z",
     "shell.execute_reply.started": "2021-10-03T10:01:05.344324Z"
    },
    "executionInfo": {
     "elapsed": 5,
     "status": "ok",
     "timestamp": 1650021740949,
     "user": {
      "displayName": "Anuranjan Pandey",
      "userId": "05889048362703875405"
     },
     "user_tz": -330
    },
    "id": "7ec09026",
    "outputId": "f760f13a-b095-45aa-b6db-6534719951c0",
    "papermill": {
     "duration": 0.040902,
     "end_time": "2021-10-03T10:05:34.113225",
     "exception": false,
     "start_time": "2021-10-03T10:05:34.072323",
     "status": "completed"
    },
    "tags": []
   },
   "outputs": [
    {
     "data": {
      "text/plain": [
       "0.86"
      ]
     },
     "execution_count": 19,
     "metadata": {},
     "output_type": "execute_result"
    }
   ],
   "source": [
    "accuracy_score(test_y, predict_y)"
   ]
  },
  {
   "cell_type": "code",
   "execution_count": 20,
   "id": "12450335",
   "metadata": {
    "colab": {
     "base_uri": "https://localhost:8080/",
     "height": 333
    },
    "execution": {
     "iopub.execute_input": "2021-10-03T10:05:34.179929Z",
     "iopub.status.busy": "2021-10-03T10:05:34.179304Z",
     "iopub.status.idle": "2021-10-03T10:05:34.394021Z",
     "shell.execute_reply": "2021-10-03T10:05:34.393445Z",
     "shell.execute_reply.started": "2021-10-03T10:01:06.034592Z"
    },
    "executionInfo": {
     "elapsed": 5,
     "status": "ok",
     "timestamp": 1650021741757,
     "user": {
      "displayName": "Anuranjan Pandey",
      "userId": "05889048362703875405"
     },
     "user_tz": -330
    },
    "id": "12450335",
    "outputId": "f620ffae-8fe2-462f-ad52-5734e9c01f0b",
    "papermill": {
     "duration": 0.249124,
     "end_time": "2021-10-03T10:05:34.394138",
     "exception": false,
     "start_time": "2021-10-03T10:05:34.145014",
     "status": "completed"
    },
    "tags": []
   },
   "outputs": [
    {
     "data": {
      "image/png": "[encoded data removed]",
      "text/plain": [
       "<Figure size 432x288 with 1 Axes>"
      ]
     },
     "metadata": {
      "needs_background": "light"
     },
     "output_type": "display_data"
    }
   ],
   "source": [
    "from sklearn.metrics import plot_roc_curve\n",
    "plot_roc_curve(lr, test_X, test_y);"
   ]
  },
  {
   "cell_type": "code",
   "execution_count": 21,
   "id": "b16c9eba",
   "metadata": {
    "colab": {
     "base_uri": "https://localhost:8080/",
     "height": 423
    },
    "execution": {
     "iopub.execute_input": "2021-10-03T10:05:34.459212Z",
     "iopub.status.busy": "2021-10-03T10:05:34.453417Z",
     "iopub.status.idle": "2021-10-03T10:05:34.463256Z",
     "shell.execute_reply": "2021-10-03T10:05:34.463660Z",
     "shell.execute_reply.started": "2021-10-03T10:01:07.088166Z"
    },
    "executionInfo": {
     "elapsed": 8,
     "status": "ok",
     "timestamp": 1650021742211,
     "user": {
      "displayName": "Anuranjan Pandey",
      "userId": "05889048362703875405"
     },
     "user_tz": -330
    },
    "id": "b16c9eba",
    "outputId": "28422781-b292-41ec-957b-40295207c44c",
    "papermill": {
     "duration": 0.046776,
     "end_time": "2021-10-03T10:05:34.463809",
     "exception": false,
     "start_time": "2021-10-03T10:05:34.417033",
     "status": "completed"
    },
    "tags": []
   },
   "outputs": [
    {
     "data": {
      "text/html": [
       "<div>\n",
       "<style scoped>\n",
       "    .dataframe tbody tr th:only-of-type {\n",
       "        vertical-align: middle;\n",
       "    }\n",
       "\n",
       "    .dataframe tbody tr th {\n",
       "        vertical-align: top;\n",
       "    }\n",
       "\n",
       "    .dataframe thead th {\n",
       "        text-align: right;\n",
       "    }\n",
       "</style>\n",
       "<table border=\"1\" class=\"dataframe\">\n",
       "  <thead>\n",
       "    <tr style=\"text-align: right;\">\n",
       "      <th></th>\n",
       "      <th>Age</th>\n",
       "      <th>EstimatedSalary</th>\n",
       "      <th>Gender_Female</th>\n",
       "      <th>Gender_Male</th>\n",
       "      <th>Pred_Purchase</th>\n",
       "    </tr>\n",
       "  </thead>\n",
       "  <tbody>\n",
       "    <tr>\n",
       "      <th>0</th>\n",
       "      <td>33.0</td>\n",
       "      <td>0.333333</td>\n",
       "      <td>1.0</td>\n",
       "      <td>0.0</td>\n",
       "      <td>0</td>\n",
       "    </tr>\n",
       "    <tr>\n",
       "      <th>1</th>\n",
       "      <td>27.0</td>\n",
       "      <td>0.511111</td>\n",
       "      <td>1.0</td>\n",
       "      <td>0.0</td>\n",
       "      <td>0</td>\n",
       "    </tr>\n",
       "    <tr>\n",
       "      <th>2</th>\n",
       "      <td>25.0</td>\n",
       "      <td>0.533333</td>\n",
       "      <td>0.0</td>\n",
       "      <td>1.0</td>\n",
       "      <td>0</td>\n",
       "    </tr>\n",
       "    <tr>\n",
       "      <th>3</th>\n",
       "      <td>38.0</td>\n",
       "      <td>0.259259</td>\n",
       "      <td>1.0</td>\n",
       "      <td>0.0</td>\n",
       "      <td>0</td>\n",
       "    </tr>\n",
       "    <tr>\n",
       "      <th>4</th>\n",
       "      <td>27.0</td>\n",
       "      <td>0.540741</td>\n",
       "      <td>0.0</td>\n",
       "      <td>1.0</td>\n",
       "      <td>0</td>\n",
       "    </tr>\n",
       "    <tr>\n",
       "      <th>...</th>\n",
       "      <td>...</td>\n",
       "      <td>...</td>\n",
       "      <td>...</td>\n",
       "      <td>...</td>\n",
       "      <td>...</td>\n",
       "    </tr>\n",
       "    <tr>\n",
       "      <th>95</th>\n",
       "      <td>45.0</td>\n",
       "      <td>0.222222</td>\n",
       "      <td>1.0</td>\n",
       "      <td>0.0</td>\n",
       "      <td>0</td>\n",
       "    </tr>\n",
       "    <tr>\n",
       "      <th>96</th>\n",
       "      <td>32.0</td>\n",
       "      <td>0.777778</td>\n",
       "      <td>0.0</td>\n",
       "      <td>1.0</td>\n",
       "      <td>0</td>\n",
       "    </tr>\n",
       "    <tr>\n",
       "      <th>97</th>\n",
       "      <td>21.0</td>\n",
       "      <td>0.422222</td>\n",
       "      <td>0.0</td>\n",
       "      <td>1.0</td>\n",
       "      <td>0</td>\n",
       "    </tr>\n",
       "    <tr>\n",
       "      <th>98</th>\n",
       "      <td>45.0</td>\n",
       "      <td>0.125926</td>\n",
       "      <td>0.0</td>\n",
       "      <td>1.0</td>\n",
       "      <td>0</td>\n",
       "    </tr>\n",
       "    <tr>\n",
       "      <th>99</th>\n",
       "      <td>48.0</td>\n",
       "      <td>0.911111</td>\n",
       "      <td>1.0</td>\n",
       "      <td>0.0</td>\n",
       "      <td>1</td>\n",
       "    </tr>\n",
       "  </tbody>\n",
       "</table>\n",
       "<p>100 rows × 5 columns</p>\n",
       "</div>"
      ],
      "text/plain": [
       "     Age  EstimatedSalary  Gender_Female  Gender_Male  Pred_Purchase\n",
       "0   33.0         0.333333            1.0          0.0              0\n",
       "1   27.0         0.511111            1.0          0.0              0\n",
       "2   25.0         0.533333            0.0          1.0              0\n",
       "3   38.0         0.259259            1.0          0.0              0\n",
       "4   27.0         0.540741            0.0          1.0              0\n",
       "..   ...              ...            ...          ...            ...\n",
       "95  45.0         0.222222            1.0          0.0              0\n",
       "96  32.0         0.777778            0.0          1.0              0\n",
       "97  21.0         0.422222            0.0          1.0              0\n",
       "98  45.0         0.125926            0.0          1.0              0\n",
       "99  48.0         0.911111            1.0          0.0              1\n",
       "\n",
       "[100 rows x 5 columns]"
      ]
     },
     "execution_count": 21,
     "metadata": {},
     "output_type": "execute_result"
    }
   ],
   "source": [
    "Result_Test_X = pd.DataFrame(test_X, columns =['Age','EstimatedSalary','Gender_Female','Gender_Male'])\n",
    "Result_Predict_y = pd.DataFrame(predict_y, columns= ['Pred_Purchase'])\n",
    "pd.concat([Result_Test_X, Result_Predict_y], axis=1)"
   ]
  },
  {
   "cell_type": "code",
   "execution_count": 22,
   "id": "144ceb6f",
   "metadata": {
    "colab": {
     "base_uri": "https://localhost:8080/",
     "height": 423
    },
    "execution": {
     "iopub.execute_input": "2021-10-03T10:05:34.517535Z",
     "iopub.status.busy": "2021-10-03T10:05:34.517013Z",
     "iopub.status.idle": "2021-10-03T10:05:34.529731Z",
     "shell.execute_reply": "2021-10-03T10:05:34.529212Z",
     "shell.execute_reply.started": "2021-10-03T10:01:20.027937Z"
    },
    "executionInfo": {
     "elapsed": 6,
     "status": "ok",
     "timestamp": 1650021742211,
     "user": {
      "displayName": "Anuranjan Pandey",
      "userId": "05889048362703875405"
     },
     "user_tz": -330
    },
    "id": "144ceb6f",
    "outputId": "17bd1499-8c5f-48a8-f32f-4d9dcfdc076c",
    "papermill": {
     "duration": 0.042621,
     "end_time": "2021-10-03T10:05:34.529844",
     "exception": false,
     "start_time": "2021-10-03T10:05:34.487223",
     "status": "completed"
    },
    "tags": []
   },
   "outputs": [
    {
     "data": {
      "text/html": [
       "<div>\n",
       "<style scoped>\n",
       "    .dataframe tbody tr th:only-of-type {\n",
       "        vertical-align: middle;\n",
       "    }\n",
       "\n",
       "    .dataframe tbody tr th {\n",
       "        vertical-align: top;\n",
       "    }\n",
       "\n",
       "    .dataframe thead th {\n",
       "        text-align: right;\n",
       "    }\n",
       "</style>\n",
       "<table border=\"1\" class=\"dataframe\">\n",
       "  <thead>\n",
       "    <tr style=\"text-align: right;\">\n",
       "      <th></th>\n",
       "      <th>Age</th>\n",
       "      <th>EstimatedSalary</th>\n",
       "      <th>Gender_Female</th>\n",
       "      <th>Gender_Male</th>\n",
       "      <th>Purchased</th>\n",
       "      <th>Pred_Purchase</th>\n",
       "    </tr>\n",
       "  </thead>\n",
       "  <tbody>\n",
       "    <tr>\n",
       "      <th>0</th>\n",
       "      <td>33.0</td>\n",
       "      <td>0.333333</td>\n",
       "      <td>1.0</td>\n",
       "      <td>0.0</td>\n",
       "      <td>0</td>\n",
       "      <td>0</td>\n",
       "    </tr>\n",
       "    <tr>\n",
       "      <th>1</th>\n",
       "      <td>27.0</td>\n",
       "      <td>0.511111</td>\n",
       "      <td>1.0</td>\n",
       "      <td>0.0</td>\n",
       "      <td>0</td>\n",
       "      <td>0</td>\n",
       "    </tr>\n",
       "    <tr>\n",
       "      <th>2</th>\n",
       "      <td>25.0</td>\n",
       "      <td>0.533333</td>\n",
       "      <td>0.0</td>\n",
       "      <td>1.0</td>\n",
       "      <td>0</td>\n",
       "      <td>0</td>\n",
       "    </tr>\n",
       "    <tr>\n",
       "      <th>3</th>\n",
       "      <td>38.0</td>\n",
       "      <td>0.259259</td>\n",
       "      <td>1.0</td>\n",
       "      <td>0.0</td>\n",
       "      <td>0</td>\n",
       "      <td>0</td>\n",
       "    </tr>\n",
       "    <tr>\n",
       "      <th>4</th>\n",
       "      <td>27.0</td>\n",
       "      <td>0.540741</td>\n",
       "      <td>0.0</td>\n",
       "      <td>1.0</td>\n",
       "      <td>0</td>\n",
       "      <td>0</td>\n",
       "    </tr>\n",
       "    <tr>\n",
       "      <th>...</th>\n",
       "      <td>...</td>\n",
       "      <td>...</td>\n",
       "      <td>...</td>\n",
       "      <td>...</td>\n",
       "      <td>...</td>\n",
       "      <td>...</td>\n",
       "    </tr>\n",
       "    <tr>\n",
       "      <th>95</th>\n",
       "      <td>45.0</td>\n",
       "      <td>0.222222</td>\n",
       "      <td>1.0</td>\n",
       "      <td>0.0</td>\n",
       "      <td>1</td>\n",
       "      <td>0</td>\n",
       "    </tr>\n",
       "    <tr>\n",
       "      <th>96</th>\n",
       "      <td>32.0</td>\n",
       "      <td>0.777778</td>\n",
       "      <td>0.0</td>\n",
       "      <td>1.0</td>\n",
       "      <td>1</td>\n",
       "      <td>0</td>\n",
       "    </tr>\n",
       "    <tr>\n",
       "      <th>97</th>\n",
       "      <td>21.0</td>\n",
       "      <td>0.422222</td>\n",
       "      <td>0.0</td>\n",
       "      <td>1.0</td>\n",
       "      <td>0</td>\n",
       "      <td>0</td>\n",
       "    </tr>\n",
       "    <tr>\n",
       "      <th>98</th>\n",
       "      <td>45.0</td>\n",
       "      <td>0.125926</td>\n",
       "      <td>0.0</td>\n",
       "      <td>1.0</td>\n",
       "      <td>1</td>\n",
       "      <td>0</td>\n",
       "    </tr>\n",
       "    <tr>\n",
       "      <th>99</th>\n",
       "      <td>48.0</td>\n",
       "      <td>0.911111</td>\n",
       "      <td>1.0</td>\n",
       "      <td>0.0</td>\n",
       "      <td>1</td>\n",
       "      <td>1</td>\n",
       "    </tr>\n",
       "  </tbody>\n",
       "</table>\n",
       "<p>100 rows × 6 columns</p>\n",
       "</div>"
      ],
      "text/plain": [
       "     Age  EstimatedSalary  Gender_Female  Gender_Male  Purchased  \\\n",
       "0   33.0         0.333333            1.0          0.0          0   \n",
       "1   27.0         0.511111            1.0          0.0          0   \n",
       "2   25.0         0.533333            0.0          1.0          0   \n",
       "3   38.0         0.259259            1.0          0.0          0   \n",
       "4   27.0         0.540741            0.0          1.0          0   \n",
       "..   ...              ...            ...          ...        ...   \n",
       "95  45.0         0.222222            1.0          0.0          1   \n",
       "96  32.0         0.777778            0.0          1.0          1   \n",
       "97  21.0         0.422222            0.0          1.0          0   \n",
       "98  45.0         0.125926            0.0          1.0          1   \n",
       "99  48.0         0.911111            1.0          0.0          1   \n",
       "\n",
       "    Pred_Purchase  \n",
       "0               0  \n",
       "1               0  \n",
       "2               0  \n",
       "3               0  \n",
       "4               0  \n",
       "..            ...  \n",
       "95              0  \n",
       "96              0  \n",
       "97              0  \n",
       "98              0  \n",
       "99              1  \n",
       "\n",
       "[100 rows x 6 columns]"
      ]
     },
     "execution_count": 22,
     "metadata": {},
     "output_type": "execute_result"
    }
   ],
   "source": [
    "Result_test_y = pd.DataFrame(test_y, columns= ['Purchased'])\n",
    "Result = pd.concat([Result_Test_X, Result_test_y, Result_Predict_y], axis=1)\n",
    "Result"
   ]
  },
  {
   "cell_type": "code",
   "execution_count": 23,
   "id": "80374924",
   "metadata": {
    "execution": {
     "iopub.execute_input": "2021-10-03T10:05:34.579263Z",
     "iopub.status.busy": "2021-10-03T10:05:34.578767Z",
     "iopub.status.idle": "2021-10-03T10:05:34.585326Z",
     "shell.execute_reply": "2021-10-03T10:05:34.584881Z",
     "shell.execute_reply.started": "2021-10-03T10:01:25.429003Z"
    },
    "id": "80374924",
    "papermill": {
     "duration": 0.033009,
     "end_time": "2021-10-03T10:05:34.585443",
     "exception": false,
     "start_time": "2021-10-03T10:05:34.552434",
     "status": "completed"
    },
    "tags": []
   },
   "outputs": [],
   "source": [
    "# Comparing test_y and predicted_y values and saving\n",
    "Result.to_csv('Final_Prediction_test_values.csv')"
   ]
  },
  {
   "cell_type": "code",
   "execution_count": null,
   "id": "ab2ca110",
   "metadata": {
    "id": "ab2ca110",
    "papermill": {
     "duration": 0.022368,
     "end_time": "2021-10-03T10:05:34.630423",
     "exception": false,
     "start_time": "2021-10-03T10:05:34.608055",
     "status": "completed"
    },
    "tags": []
   },
   "outputs": [],
   "source": []
  }
 ],
 "metadata": {
  "colab": {
   "collapsed_sections": [],
   "name": "5",
   "provenance": []
  },
  "kernelspec": {
   "display_name": "Python 3",
   "language": "python",
   "name": "python3"
  },
  "language_info": {
   "codemirror_mode": {
    "name": "ipython",
    "version": 3
   },
   "file_extension": ".py",
   "mimetype": "text/x-python",
   "name": "python",
   "nbconvert_exporter": "python",
   "pygments_lexer": "ipython3",
   "version": "3.6.9"
  },
  "papermill": {
   "default_parameters": {},
   "duration": 10.655009,
   "end_time": "2021-10-03T10:05:35.362518",
   "environment_variables": {},
   "exception": null,
   "input_path": "__notebook__.ipynb",
   "output_path": "__notebook__.ipynb",
   "parameters": {},
   "start_time": "2021-10-03T10:05:24.707509",
   "version": "2.3.3"
  }
 },
 "nbformat": 4,
 "nbformat_minor": 5
}
